{
 "cells": [
  {
   "cell_type": "code",
   "execution_count": 1,
   "metadata": {},
   "outputs": [
    {
     "name": "stdout",
     "output_type": "stream",
     "text": [
      "aiobotocore                   2.5.4\n",
      "black                         24.4.2\n",
      "blosc2                        2.6.2\n",
      "botocore                      1.31.17\n",
      "etelemetry                    0.3.0\n",
      "langchain-nvidia-ai-endpoints 0.0.19\n",
      "python-lsp-black              1.2.1\n"
     ]
    }
   ],
   "source": [
    "import subprocess\n",
    "\n",
    "# List of packages to check\n",
    "packages_to_check = [\"blosc2\", \"cython\", \"botocore\", \"etelemetry\", \"black\", \"langchain-nvidia-ai-endpoints\"]\n",
    "\n",
    "# Get the output of 'pip list'\n",
    "result = subprocess.run(['pip', 'list'], stdout=subprocess.PIPE, text=True)\n",
    "\n",
    "# Filter the output for the packages we're interested in\n",
    "for line in result.stdout.split('\\n'):\n",
    "    for package in packages_to_check:\n",
    "        if package in line:\n",
    "            print(line)\n"
   ]
  }
 ],
 "metadata": {
  "kernelspec": {
   "display_name": "base",
   "language": "python",
   "name": "python3"
  },
  "language_info": {
   "codemirror_mode": {
    "name": "ipython",
    "version": 3
   },
   "file_extension": ".py",
   "mimetype": "text/x-python",
   "name": "python",
   "nbconvert_exporter": "python",
   "pygments_lexer": "ipython3",
   "version": "3.11.5"
  }
 },
 "nbformat": 4,
 "nbformat_minor": 2
}
